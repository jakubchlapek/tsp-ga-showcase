{
 "cells": [
  {
   "metadata": {},
   "cell_type": "markdown",
   "source": [
    "# The Travelling Salesman Problem\n",
    "In the notebook there are multiple available methods for selection, crossover and inheritance. It contains a default approach which I have found to be the most effective and consistent, but it should be easy to tweak the settings for comparison. My benchmark was on 50 cities, using around 200-500 specimens at a time for a generation. I managed a consistent result in about 100 generations which seemed pretty good after a visual inspection.\n",
    "\n",
    "For each \"run\" of the algorithm, there is an option to either save the plots to workspace memory or create a gif from them showcasing progress. The 'plot_all' option allows to see the best specimen along with others, with weaker opacity corresponding to their fitness metric. The default approach is to not show plots, to save gif and to plot all.\n",
    "\n",
    "The approach in the notebook was to generate the CITY_COUNT points randomly. Afterwards I generated SPECIMEN_COUNT rows, where for each specimen (possible travel order) I calculated a sum of distances. A generation is represented as a 2D numpy matrix, where the last column represents each rows fitness metric. The travel order always starts and ends with city 0.\n",
    "\n",
    "The GA runs until the MAX_GENERATIONS is reached, or until the solutions converge (I check standard deviation of a generations fitness metrics)."
   ],
   "id": "1ef58ee95fe0e6a0"
  },
  {
   "metadata": {
    "ExecuteTime": {
     "end_time": "2025-03-29T23:27:28.340048Z",
     "start_time": "2025-03-29T23:27:28.335981Z"
    }
   },
   "cell_type": "code",
   "source": [
    "import os\n",
    "import shutil\n",
    "import numpy as np\n",
    "import random\n",
    "import matplotlib.pyplot as plt\n",
    "import itertools\n",
    "from PIL import Image # for making a gif"
   ],
   "id": "7c7f6b862b2c131e",
   "outputs": [],
   "execution_count": 60
  },
  {
   "metadata": {},
   "cell_type": "markdown",
   "source": "## Genetic Algorithm control parameters",
   "id": "2933cf30ddaa2f33"
  },
  {
   "metadata": {
    "collapsed": true,
    "ExecuteTime": {
     "end_time": "2025-03-29T23:32:20.956894Z",
     "start_time": "2025-03-29T23:32:20.952405Z"
    }
   },
   "cell_type": "code",
   "source": [
    "### Point generation ###\n",
    "CITY_COUNT = 50 # How` many cities to pass\n",
    "LIMIT_X = 300 # max x coordinate on plot\n",
    "LIMIT_Y = 300 # max y coordinate on plot\n",
    "\n",
    "### GA params ###\n",
    "MAX_GENERATIONS = 200\n",
    "SPECIMEN_COUNT = 300 # how many specimens per generation, should be several times larger than city count\n",
    "\n",
    "### Crossover and mutation ###\n",
    "MUTATION_ACTIVE = True\n",
    "PARENTS_COUNT = 300 # how many parents are chosen in each selection for crossover and mutation, specimen_count >= parents * tournament\n",
    "TOURNAMENT_SIZE = 3 # for tournament selection, bigger size means less weaker specimens\n",
    "CROSSOVER_RATE = 0.98\n",
    "MUTATION_START_RATE, MUTATION_END_RATE = 0.1, 0.7 # mutation rate, put same for static rate, step size depends on max generations\n",
    "# recommended static is 1 / city_count\n",
    "\n",
    "### Plotting ###\n",
    "PLOT_SUBOPTIMAL = True # show all specimen paths on each plot (weaker scored == less opacity)\n",
    "PLOT_FIG_WORKSPACE = False # show each figure in the workspace\n",
    "SAVE_FIG_GIF = True # save fig as a gif\n",
    "TEMP_DIR_NAME = 'images'"
   ],
   "id": "initial_id",
   "outputs": [],
   "execution_count": 86
  },
  {
   "metadata": {},
   "cell_type": "markdown",
   "source": "### Helper functions",
   "id": "c234aa07da9d0385"
  },
  {
   "metadata": {
    "ExecuteTime": {
     "end_time": "2025-03-29T23:27:28.402903Z",
     "start_time": "2025-03-29T23:27:28.398169Z"
    }
   },
   "cell_type": "code",
   "source": [
    "def sort_by_fitness(curr_gen):\n",
    "    return curr_gen[curr_gen[:, CITY_COUNT + 1].argsort()]"
   ],
   "id": "d8ba73da6f41b791",
   "outputs": [],
   "execution_count": 62
  },
  {
   "metadata": {
    "ExecuteTime": {
     "end_time": "2025-03-29T23:27:28.416744Z",
     "start_time": "2025-03-29T23:27:28.410621Z"
    }
   },
   "cell_type": "code",
   "source": [
    "def calculate_fitness(specimen: np.ndarray) -> int:\n",
    "    \"\"\"\n",
    "    Get sum of distances for each point\n",
    "    :param specimen: np.ndarray of specimen\n",
    "    :return: sum of distances for given specimen\n",
    "    \"\"\"\n",
    "    return np.floor(np.array([distances_matrix[specimen[i], specimen[i - 1]]\n",
    "                        for i in range(1, len(specimen))]).sum(dtype=int)) # I floor here, but doesn't really matter considering the magnitude of the data"
   ],
   "id": "593510526c5e985c",
   "outputs": [],
   "execution_count": 63
  },
  {
   "metadata": {
    "ExecuteTime": {
     "end_time": "2025-03-29T23:27:28.437204Z",
     "start_time": "2025-03-29T23:27:28.431114Z"
    }
   },
   "cell_type": "code",
   "source": [
    "def get_best_permutation(specimen: np.ndarray, indexes: list) -> np.ndarray:\n",
    "    \"\"\"\n",
    "    Helper function to get the best permutation from a list of specimens by calculating the fitness. Basically calculates the fitness metric for each permutation of indexes inserted into the rest of the specimen and compares.\n",
    "    :param specimen: np.ndarray of specimen\n",
    "    :param indexes: indexes in the specimen that you want to calculate the fitness\n",
    "    :return: best_specimen\n",
    "    \"\"\"\n",
    "    cities_candidates = specimen[indexes]\n",
    "    best_fit = float('inf')\n",
    "    for perm in itertools.permutations(cities_candidates):\n",
    "        tmp_spec = specimen[:-1].copy()\n",
    "        for idx, pos in enumerate(indexes):\n",
    "            tmp_spec[pos] = perm[idx]\n",
    "        fitness = calculate_fitness(tmp_spec)\n",
    "        if fitness < best_fit:\n",
    "            best_fit = fitness\n",
    "            specimen = np.concatenate((tmp_spec, [fitness]))\n",
    "    return specimen"
   ],
   "id": "fc71371256ab4e4f",
   "outputs": [],
   "execution_count": 64
  },
  {
   "metadata": {},
   "cell_type": "markdown",
   "source": "### Select, crossover and mutation",
   "id": "1bbadec700c545f4"
  },
  {
   "metadata": {
    "ExecuteTime": {
     "end_time": "2025-03-29T23:27:28.461771Z",
     "start_time": "2025-03-29T23:27:28.454164Z"
    }
   },
   "cell_type": "code",
   "source": [
    "def select_specimens(original_generation: np.ndarray, parent_count: int, selection_type: str = \"tournament\",\n",
    "                     tournament_size: int = TOURNAMENT_SIZE, with_replacement: bool = True) -> np.ndarray:\n",
    "    \"\"\"\n",
    "    Selects specimens from a generation based on a given selection strategy.\n",
    "\n",
    "    :param original_generation: np.ndarray of specimens (last col is fitness of each).\n",
    "    :param parent_count: Number of parents to select.\n",
    "    :param selection_type: Selection strategy: 'tournament', 'roulette', or 'random'.\n",
    "    :param tournament_size: Size of tournament (only used for tournament selection).\n",
    "    :param with_replacement: Whether to remove selected specimens from the generation (only for tournament selection).\n",
    "    :return: np.ndarray of selected parents sorted by fitness.\n",
    "    \"\"\"\n",
    "\n",
    "    if selection_type == \"tournament\":\n",
    "        parents = []\n",
    "        generation = original_generation.copy()\n",
    "        for _ in range(parent_count):\n",
    "            tournament_indexes = np.sort(np.random.choice(generation.shape[0], size=tournament_size, replace=False))\n",
    "            tournament_specimens = generation[tournament_indexes]\n",
    "            tournament_winner = tournament_specimens[0] # best specimen wins\n",
    "            parents.append(tournament_winner)\n",
    "            if not with_replacement:\n",
    "                generation = np.delete(generation, tournament_indexes, axis=0)\n",
    "        selected = np.vstack(parents)\n",
    "\n",
    "    elif selection_type == \"roulette\":\n",
    "        generation = original_generation.copy()\n",
    "        fitness = generation[:, -1]\n",
    "        prob = 1 / (fitness + 1e-6)\n",
    "        probabilities = prob / np.sum(prob)\n",
    "        indices = np.random.choice(np.arange(generation.shape[0]), size=parent_count, p=probabilities, replace=True)\n",
    "        selected = original_generation[indices]\n",
    "\n",
    "    elif selection_type == \"random\":\n",
    "        generation = original_generation.copy()\n",
    "        indices = np.random.choice(np.arange(generation.shape[0]), size=parent_count, replace=False)\n",
    "        selected = generation[indices]\n",
    "\n",
    "    else:\n",
    "        raise ValueError(\"selection_type must be 'tournament', 'roulette', or 'random'\")\n",
    "\n",
    "    return sort_by_fitness(selected)\n"
   ],
   "id": "403b340cfaad9835",
   "outputs": [],
   "execution_count": 65
  },
  {
   "metadata": {
    "ExecuteTime": {
     "end_time": "2025-03-29T23:27:28.495486Z",
     "start_time": "2025-03-29T23:27:28.485571Z"
    }
   },
   "cell_type": "code",
   "source": [
    "def mutate_spec(original_specimen: np.ndarray, specimen_size = CITY_COUNT, draw_probability: float = 0.1, mutation_type = \"swap\", max_perms: int = 4) -> np.ndarray:\n",
    "    '''\n",
    "    Mutate a specimen based on a given mutation strategy. The 'heuristic' option tends to give the best effects, but also can be computationally expensive, especially for higher max_perms, as it checks each permutation.\n",
    "\n",
    "    :param original_specimen: np.ndarray representing city travel order\n",
    "    :param specimen_size: how many elements a specimen has\n",
    "    :param draw_probability: probability of mutation\n",
    "    :param mutation_type: 'swap' - swap 2 cities | 'shuffle' - insert 1 city elsewhere, shuffle rest accordingly | 'heuristic' - roll K cities from order, for each permutation calculate fitness, choose best.\n",
    "    :param max_perms: For heuristic mutation, how many maximum elements can be chosen at a time to compare permutations\n",
    "    :return:\n",
    "    '''\n",
    "    prob = random.random()\n",
    "    if prob >= draw_probability: # Don't mutate\n",
    "        return original_specimen\n",
    "    specimen = original_specimen.copy()\n",
    "    if mutation_type == \"swap\":\n",
    "        first_idx, second_idx = np.random.choice(np.arange(1, specimen_size), size=2, replace=False) # get two not-matching gene indexes\n",
    "        first_gene = specimen[first_idx]\n",
    "        second_gene = specimen[second_idx]\n",
    "        specimen[second_idx] = first_gene\n",
    "        specimen[first_idx] = second_gene\n",
    "    elif mutation_type == \"shuffle\":\n",
    "        first_idx, second_idx = np.random.choice(np.arange(1, specimen_size), size=2, replace=False) # get two not-matching gene indexes\n",
    "        # first_idx - gene_from\n",
    "        # second_idx - gene_to\n",
    "        tmp_spec = specimen[first_idx].copy()\n",
    "        if first_idx > second_idx:\n",
    "            specimen[second_idx + 1: first_idx + 1] = specimen[second_idx: first_idx]\n",
    "        else:\n",
    "            specimen[first_idx: second_idx] = specimen[first_idx + 1: second_idx + 1]\n",
    "        specimen[second_idx] = tmp_spec\n",
    "    elif mutation_type == \"heuristic\":\n",
    "        upper_limit = min(max_perms, specimen_size) # limit to all\n",
    "        indexes = np.random.choice(np.arange(1, specimen_size), size=upper_limit, replace=False)\n",
    "        specimen = get_best_permutation(specimen, indexes)\n",
    "    else:\n",
    "        raise ValueError(\"mutation_type must be 'swap', 'shuffle' or 'heuristic'\")\n",
    "    return specimen\n"
   ],
   "id": "76f5e56620884d3c",
   "outputs": [],
   "execution_count": 66
  },
  {
   "metadata": {
    "ExecuteTime": {
     "end_time": "2025-03-29T23:27:28.521364Z",
     "start_time": "2025-03-29T23:27:28.510954Z"
    }
   },
   "cell_type": "code",
   "source": [
    "def crossover_parents(parent1: np.ndarray, parent2: np.ndarray, crossover_rate: float = 1.0, crossover_type: str = 'order', max_perm: int = 5, hybrid_ratio: float = 0.1) -> np.ndarray:\n",
    "    \"\"\"\n",
    "    Crossver 2 parents based on a given mutation strategy. The 'heuristic_order' option tends to give the best effects, but also can be computationally expensive, especially for higher max_perms, as it checks each permutation - 2. 'Heuristic_order' sorts the inner values according to fitness, which can give good results, but also get stuck on local minima.\n",
    "\n",
    "    :param parent1: np.ndarray specimen\n",
    "    :param parent2: np.ndarray specimen\n",
    "    :param crossover_rate: probability of crossover from 0 to 1, if it doesn't happen then return parent1\n",
    "    :param crossover_type: 'order' - insert substring from parent1 into child, the rest of the values with remaining not-duplicate parent2 values. 'heuristic_order' - variant of order where we also sort the inner values according to fitness. 'hybrid_order' - combination of order and heuristic_order based on a hybrid ratio.\n",
    "    :param max_perm: For 'heuristic_order' crossover, the max number of elements taken into account for permutations\n",
    "    :param hybrid_ratio: For 'hybrid_order' crossover, basically the probability for doing heuristic order, else does the normal order\n",
    "    :return:\n",
    "    \"\"\"\n",
    "    parent1 = parent1.copy()\n",
    "    parent2 = parent2.copy()\n",
    "    if random.random() > crossover_rate:\n",
    "        return parent1\n",
    "    if crossover_type == \"order\":\n",
    "        # Get two random starting points\n",
    "        point_1, point_2 = np.random.choice(np.arange(1, CITY_COUNT), size=2, replace=False)\n",
    "        starting_point, ending_point = sorted([point_1, point_2])\n",
    "\n",
    "        child = parent2.copy()\n",
    "        crossover_values = parent1[starting_point:ending_point]\n",
    "        child[starting_point:ending_point] = crossover_values\n",
    "        parent2 = parent2[~np.isin(parent2, crossover_values)] # delete from parent2 the crossed over values\n",
    "        child[:starting_point] = parent2[:starting_point] # Insert new values that weren't used\n",
    "        child[ending_point:] = parent2[starting_point:]\n",
    "    elif crossover_type == \"heuristic_order\":\n",
    "        if max_perm < 4:\n",
    "            raise ValueError(\"max_perm must be >= 4\")\n",
    "\n",
    "        point_1 = np.random.choice(np.arange(1, CITY_COUNT), replace=False)\n",
    "        if point_1 + max_perm > CITY_COUNT:\n",
    "            point_2 = point_1 - max_perm\n",
    "        else:\n",
    "            point_2 = point_1 + max_perm\n",
    "\n",
    "        # Get two random starting points\n",
    "        starting_point, ending_point = sorted([point_1, point_2])\n",
    "\n",
    "        crossover_values = parent1[starting_point:ending_point]\n",
    "        perm_indexes = list(range(1, len(crossover_values) - 1))\n",
    "        crossover_values = np.concatenate([crossover_values, [-1]]) # append dummy for get_best_perm to work shapewise\n",
    "        best_crossover_values = get_best_permutation(crossover_values, perm_indexes)[:-1] # permutate on only the inner values, without the last element (fitness)\n",
    "\n",
    "        child = parent2.copy()\n",
    "        child[starting_point:ending_point] = best_crossover_values\n",
    "        parent2 = parent2[~np.isin(parent2, best_crossover_values)] # delete from parent2 the crossed over values\n",
    "        child[:starting_point] = parent2[:starting_point] # Insert new values that weren't used\n",
    "        child[ending_point:] = parent2[starting_point:]\n",
    "    elif crossover_type == \"hybrid_order\":\n",
    "        if random.random() <= hybrid_ratio:\n",
    "            return crossover_parents(parent1, parent2, crossover_rate, crossover_type='heuristic_order', max_perm=max_perm)\n",
    "        else:\n",
    "            return crossover_parents(parent1, parent2, crossover_rate, crossover_type='order')\n",
    "    else:\n",
    "        raise ValueError(\"crossover_type must be 'order', 'heuristic_order' or 'hybrid_order'\")\n",
    "    child[-1] = calculate_fitness(child[:-1]) # Update fitness\n",
    "    return child"
   ],
   "id": "46dd21a5b8864970",
   "outputs": [],
   "execution_count": 67
  },
  {
   "metadata": {
    "ExecuteTime": {
     "end_time": "2025-03-29T23:27:28.538309Z",
     "start_time": "2025-03-29T23:27:28.532051Z"
    }
   },
   "cell_type": "code",
   "source": [
    "def get_children(parents: np.ndarray, mutate: bool=True, draw_prob: float=0.1, cs_prob: float=1, mut_type: str='swap', cs_type: str='order', hybrid_ratio: float=0.3) -> np.ndarray:\n",
    "    \"\"\"\n",
    "    Get children from the parents.\n",
    "    \"\"\"\n",
    "    children = []\n",
    "    while len(children) < SPECIMEN_COUNT:\n",
    "        idx_1, idx_2 = np.random.choice(np.arange(PARENTS_COUNT), size=2, replace=False)\n",
    "        original_parent_1, original_parent_2 = parents[idx_1], parents[idx_2]\n",
    "        child = crossover_parents(original_parent_1, original_parent_2, crossover_type=cs_type, crossover_rate=cs_prob, hybrid_ratio=hybrid_ratio)\n",
    "        children.append(child)\n",
    "\n",
    "    if mutate:\n",
    "        children = [mutate_spec(child, draw_probability=draw_prob, mutation_type=mut_type) for child in children]\n",
    "    return sort_by_fitness(np.vstack([children]))"
   ],
   "id": "525aaf917fce4a5a",
   "outputs": [],
   "execution_count": 68
  },
  {
   "metadata": {
    "ExecuteTime": {
     "end_time": "2025-03-29T23:27:28.555914Z",
     "start_time": "2025-03-29T23:27:28.550249Z"
    }
   },
   "cell_type": "code",
   "source": [
    "def inherit_generation(parents: np.ndarray, children: np.ndarray, inheritance_type: str=\"full\", elitist_count: int=5) -> np.ndarray:\n",
    "    \"\"\"\n",
    "\n",
    "    :param parents: np.ndarray of parents\n",
    "    :param children: np.ndarray of children\n",
    "    :param inheritance_type: 'full' - inherit only the children | 'combined_tournament' - tournament selection from combined parents and children | 'combined_roulette' - roulette selection from both | 'elitist' - get only the best from both\n",
    "    :param elitist_count: how many best specimens to keep in each new generation\n",
    "    :return: np.ndarray of specimens composing new generation\n",
    "    \"\"\"\n",
    "    if inheritance_type == \"full\":\n",
    "        return children\n",
    "    elif inheritance_type == \"combined_tournament\":\n",
    "        all_specs = np.vstack([parents, children])\n",
    "        best_elite = sort_by_fitness(all_specs)[:elitist_count]\n",
    "        remainder_count = SPECIMEN_COUNT - elitist_count\n",
    "        remainder = select_specimens(all_specs, selection_type='tournament', parent_count=remainder_count, with_replacement=True)\n",
    "        return sort_by_fitness(np.vstack([best_elite, remainder]))\n",
    "    elif inheritance_type == \"combined_roulette\":\n",
    "        all_specs = np.vstack([parents, children])\n",
    "        best_elite = sort_by_fitness(all_specs)[:elitist_count]\n",
    "        remainder_count = SPECIMEN_COUNT - elitist_count\n",
    "        remainder = select_specimens(all_specs, selection_type='roulette', parent_count=remainder_count, with_replacement=True)\n",
    "        return sort_by_fitness(np.vstack([best_elite, remainder]))\n",
    "    elif inheritance_type == \"elitist\":\n",
    "        all_specs = np.vstack([parents, children])\n",
    "        return sort_by_fitness(all_specs)[:SPECIMEN_COUNT]\n",
    "    else:\n",
    "        raise ValueError(\"inheritance_type must be 'full', 'combined_tournament', 'combined_roulette' or 'elitist'\")\n"
   ],
   "id": "587b0f267a68231d",
   "outputs": [],
   "execution_count": 69
  },
  {
   "metadata": {
    "ExecuteTime": {
     "end_time": "2025-03-29T23:27:28.570820Z",
     "start_time": "2025-03-29T23:27:28.566670Z"
    }
   },
   "cell_type": "code",
   "source": [
    "def get_first_generation(specimen_count: int, city_count: int) -> np.ndarray:\n",
    "    specimens = []\n",
    "    for _ in range(SPECIMEN_COUNT):\n",
    "        init_order = np.arange(1, CITY_COUNT, dtype=int)\n",
    "        np.random.shuffle(init_order)\n",
    "        init_order = np.concatenate([[0], init_order, [0]]) # want to start and end at city 1 (0-indexed)\n",
    "        fitness = calculate_fitness(init_order)\n",
    "        specimen_row = np.concatenate([init_order, [fitness]])\n",
    "        specimens.append(specimen_row)\n",
    "    return sort_by_fitness(np.vstack([specimens])) # Sort by last column"
   ],
   "id": "53d11f6b97dc5b45",
   "outputs": [],
   "execution_count": 70
  },
  {
   "metadata": {
    "ExecuteTime": {
     "end_time": "2025-03-29T23:27:28.589170Z",
     "start_time": "2025-03-29T23:27:28.583929Z"
    }
   },
   "cell_type": "code",
   "source": [
    "def get_cities(city_count: int, limit_x: int, limit_y: int, shape: str = 'random', seed: int = 0) -> tuple[np.ndarray, np.ndarray]:\n",
    "    if seed != 0:\n",
    "        np.random.seed(seed)\n",
    "    if shape == 'random':\n",
    "        x = np.floor(np.random.rand(city_count) * limit_x).astype(int)\n",
    "        y = np.floor(np.random.rand(city_count) * limit_y).astype(int)\n",
    "    elif shape == 'ring':\n",
    "        angles = np.random.uniform(0, 2 * np.pi, city_count)\n",
    "        center_x = limit_x // 2\n",
    "        center_y = limit_y // 2\n",
    "        radius_x = limit_x // 2\n",
    "        radius_y = limit_y // 2\n",
    "        x = (center_x + radius_x * np.cos(angles)).astype(int)\n",
    "        y = (center_y + radius_y * np.sin(angles)).astype(int)\n",
    "    else:\n",
    "        raise ValueError(\"shape must be 'random' or 'ring'\")\n",
    "    return x, y"
   ],
   "id": "70414676d27c147e",
   "outputs": [],
   "execution_count": 71
  },
  {
   "metadata": {
    "ExecuteTime": {
     "end_time": "2025-03-29T23:27:28.607071Z",
     "start_time": "2025-03-29T23:27:28.599076Z"
    }
   },
   "cell_type": "code",
   "source": [
    "\n",
    "def plot_generation(curr_gen: np.ndarray, curr_gen_iteration: int, x_points: np.ndarray, y_points: np.ndarray, plot_all=True, opacity_factor: int = 16, opacity_threshold: float = 0.02, plot_fig: bool = False, save_fig: bool = True, dirname: str = 'images') -> None:\n",
    "    \"\"\"\n",
    "    Plot a single generation\n",
    "    :param curr_gen: np.ndarray of current generation\n",
    "    :param curr_gen_iteration: generation number for plot title\n",
    "    :param x_points: x coords\n",
    "    :param y_points: y coords\n",
    "    :param plot_all: bool whether to plot all specimens, weaker specimens have blue color and transparent lines\n",
    "    :param opacity_factor: scaling factor to punish weaker specimens for display, higher means brighter lines\n",
    "    :param opacity_threshold: cutoff under which not to plot the specimen\n",
    "    :param plot_fig: plot fig in workspace\n",
    "    :param save_fig: save fig as a png in a dir\n",
    "    :return:\n",
    "    \"\"\"\n",
    "    fig, ax = plt.subplots(figsize=(6, 6))\n",
    "    best_fitness = curr_gen[0, -1]\n",
    "\n",
    "    if plot_all:\n",
    "        for spec in curr_gen[1:]:  # plot all except best\n",
    "            spec_fitness = spec[-1]\n",
    "            fitness_opacity = (best_fitness / spec_fitness) ** opacity_factor\n",
    "            if fitness_opacity <= opacity_threshold:\n",
    "                break\n",
    "            route = list(spec[:-1])\n",
    "            route_x = [x_points[city] for city in route]\n",
    "            route_y = [y_points[city] for city in route]  # don't include fitness\n",
    "            ax.plot(route_x, route_y, color='b', marker='o', linewidth=1, alpha=fitness_opacity)\n",
    "\n",
    "    best_spec = curr_gen[0]\n",
    "    route = list(best_spec[:-1])\n",
    "    route_x = [x_points[city] for city in route]\n",
    "    route_y = [y_points[city] for city in route]\n",
    "    ax.plot(route_x, route_y, color='r', marker='o', linewidth=2)\n",
    "\n",
    "    for i, (x, y) in enumerate(zip(x_points, y_points)):\n",
    "        ax.text(x - 3, y + 3, f'{i}', fontsize=12, fontweight='bold', color='black',\n",
    "                horizontalalignment='right', verticalalignment='bottom')\n",
    "\n",
    "    ax.set_xlabel('X Coordinate')\n",
    "    ax.set_ylabel('Y Coordinate')\n",
    "    ax.set_title(f'Route Order in Generation {curr_gen_iteration}, fitness: {best_fitness}')\n",
    "\n",
    "    if save_fig:\n",
    "        fig.savefig(f\"{dirname}/generation_{curr_gen_iteration}.png\")\n",
    "\n",
    "    if not plot_fig:\n",
    "        plt.close(fig)\n"
   ],
   "id": "8215f09275f340da",
   "outputs": [],
   "execution_count": 72
  },
  {
   "metadata": {
    "ExecuteTime": {
     "end_time": "2025-03-29T23:27:28.621433Z",
     "start_time": "2025-03-29T23:27:28.616912Z"
    }
   },
   "cell_type": "code",
   "source": [
    "def prep_directory(dirname: str) -> None:\n",
    "    shutil.rmtree(dirname + '/', ignore_errors=True, dir_fd=None) # Remove previous visualizations\n",
    "    os.makedirs(dirname, exist_ok=True)"
   ],
   "id": "2b51523402d39334",
   "outputs": [],
   "execution_count": 73
  },
  {
   "metadata": {
    "ExecuteTime": {
     "end_time": "2025-03-29T23:27:28.637269Z",
     "start_time": "2025-03-29T23:27:28.632919Z"
    }
   },
   "cell_type": "code",
   "source": [
    "def create_gif(num_generations: int):\n",
    "    images = []\n",
    "    for idx in range(1, num_generations + 1):\n",
    "        images.append(Image.open(f\"{TEMP_DIR_NAME}/generation_{idx}.png\"))\n",
    "    images[0].save('genetic.gif', save_all=True, append_images=images, duration=150)"
   ],
   "id": "b94692739eed0a04",
   "outputs": [],
   "execution_count": 74
  },
  {
   "metadata": {},
   "cell_type": "markdown",
   "source": "### Generate points",
   "id": "160c22aefb7cfa60"
  },
  {
   "metadata": {
    "ExecuteTime": {
     "end_time": "2025-03-29T23:27:28.654164Z",
     "start_time": "2025-03-29T23:27:28.647998Z"
    }
   },
   "cell_type": "code",
   "source": [
    "cities_x, cities_y = get_cities(CITY_COUNT, LIMIT_X, LIMIT_Y, shape=\"random\", seed=42)\n",
    "z = np.array([complex(x, y) for x, y in zip(cities_x, cities_y)]) # Save as a pair\n",
    "distances_matrix = abs(z[..., np.newaxis] - z)  # Abs is distance from point 0,0 so we subtract to get each pairs distances"
   ],
   "id": "d6e2aa7fc54d2e58",
   "outputs": [],
   "execution_count": 75
  },
  {
   "metadata": {},
   "cell_type": "markdown",
   "source": "### GA Loop",
   "id": "ee065f6d2031cf5f"
  },
  {
   "metadata": {
    "ExecuteTime": {
     "end_time": "2025-03-29T23:33:26.503507Z",
     "start_time": "2025-03-29T23:32:29.969702Z"
    }
   },
   "cell_type": "code",
   "source": [
    "prep_directory(dirname=TEMP_DIR_NAME)\n",
    "\n",
    "generation = get_first_generation(SPECIMEN_COUNT, CITY_COUNT)\n",
    "plot_generation(\n",
    "    generation,\n",
    "    1,\n",
    "    cities_x,\n",
    "    cities_y,\n",
    "    plot_all=PLOT_SUBOPTIMAL,\n",
    "    plot_fig=PLOT_FIG_WORKSPACE,\n",
    "    save_fig=SAVE_FIG_GIF\n",
    ")\n",
    "best_fitness = [generation[0,-1]]\n",
    "avg_fitness = [generation[:,-1].mean()]\n",
    "mutation_probabilities = np.linspace(MUTATION_START_RATE, MUTATION_END_RATE, MAX_GENERATIONS)\n",
    "saved_iter_limit = MAX_GENERATIONS\n",
    "for gen_idx in range(2, MAX_GENERATIONS + 1):\n",
    "    parents = select_specimens(\n",
    "        generation,\n",
    "        selection_type='tournament',\n",
    "        parent_count=PARENTS_COUNT,\n",
    "        tournament_size=TOURNAMENT_SIZE,\n",
    "        with_replacement=True\n",
    "    )\n",
    "    mutation_probability = mutation_probabilities[gen_idx - 2]\n",
    "    children = get_children(\n",
    "        parents,\n",
    "        mutate=MUTATION_ACTIVE,\n",
    "        cs_type='heuristic_order',\n",
    "        mut_type='heuristic',\n",
    "        cs_prob=CROSSOVER_RATE,\n",
    "        draw_prob=mutation_probability,\n",
    "        hybrid_ratio=0.8\n",
    "    )\n",
    "    generation = inherit_generation(\n",
    "        parents,\n",
    "        children,\n",
    "        inheritance_type='full',\n",
    "        elitist_count=20\n",
    "    )\n",
    "    plot_generation(\n",
    "        generation,\n",
    "        gen_idx,\n",
    "        cities_x,\n",
    "        cities_y,\n",
    "        plot_all=PLOT_SUBOPTIMAL,\n",
    "        plot_fig=PLOT_FIG_WORKSPACE,\n",
    "        save_fig=SAVE_FIG_GIF\n",
    "    )\n",
    "\n",
    "    print(f'Finished generation {gen_idx} with fitness {generation[0, -1]}')\n",
    "    best_fitness_candidate = generation[0, -1]\n",
    "    if best_fitness_candidate < best_fitness[-1]:\n",
    "        best_fitness.append(best_fitness_candidate)\n",
    "    else:\n",
    "        best_fitness.append(best_fitness[-1])\n",
    "    avg_fitness.append(generation[:,-1].mean())\n",
    "    if generation[:, -1].std() == 0: # Generations converged anyway # note: on very rare occasion all orders can have same sum of distances although they have different paths, but should be very rare\n",
    "        saved_iter_limit = gen_idx\n",
    "        break\n",
    "\n",
    "print(f'Found \"optimal\" solution after {saved_iter_limit} generations')\n",
    "print(f'Best fitness: {generation[[0], -1]}')\n",
    "\n",
    "if SAVE_FIG_GIF:\n",
    "    create_gif(saved_iter_limit)"
   ],
   "id": "2ab43e84c3faed41",
   "outputs": [
    {
     "name": "stdout",
     "output_type": "stream",
     "text": [
      "Finished generation 2 with fitness 6519\n",
      "Finished generation 3 with fitness 6316\n",
      "Finished generation 4 with fitness 5994\n",
      "Finished generation 5 with fitness 5886\n",
      "Finished generation 6 with fitness 5849\n",
      "Finished generation 7 with fitness 5606\n",
      "Finished generation 8 with fitness 5434\n",
      "Finished generation 9 with fitness 5323\n",
      "Finished generation 10 with fitness 5189\n",
      "Finished generation 11 with fitness 5158\n",
      "Finished generation 12 with fitness 4881\n",
      "Finished generation 13 with fitness 4935\n",
      "Finished generation 14 with fitness 4746\n",
      "Finished generation 15 with fitness 4743\n",
      "Finished generation 16 with fitness 4601\n",
      "Finished generation 17 with fitness 4673\n",
      "Finished generation 18 with fitness 4503\n",
      "Finished generation 19 with fitness 4493\n",
      "Finished generation 20 with fitness 4298\n",
      "Finished generation 21 with fitness 4252\n",
      "Finished generation 22 with fitness 4163\n",
      "Finished generation 23 with fitness 4173\n",
      "Finished generation 24 with fitness 3978\n",
      "Finished generation 25 with fitness 3876\n",
      "Finished generation 26 with fitness 3872\n",
      "Finished generation 27 with fitness 3799\n",
      "Finished generation 28 with fitness 3613\n",
      "Finished generation 29 with fitness 3268\n",
      "Finished generation 30 with fitness 3254\n",
      "Finished generation 31 with fitness 3224\n",
      "Finished generation 32 with fitness 3216\n",
      "Finished generation 33 with fitness 3134\n",
      "Finished generation 34 with fitness 3034\n",
      "Finished generation 35 with fitness 2979\n",
      "Finished generation 36 with fitness 3035\n",
      "Finished generation 37 with fitness 2924\n",
      "Finished generation 38 with fitness 2936\n",
      "Finished generation 39 with fitness 2824\n",
      "Finished generation 40 with fitness 2818\n",
      "Finished generation 41 with fitness 2743\n",
      "Finished generation 42 with fitness 2668\n",
      "Finished generation 43 with fitness 2656\n",
      "Finished generation 44 with fitness 2622\n",
      "Finished generation 45 with fitness 2605\n",
      "Finished generation 46 with fitness 2558\n",
      "Finished generation 47 with fitness 2518\n",
      "Finished generation 48 with fitness 2501\n",
      "Finished generation 49 with fitness 2473\n",
      "Finished generation 50 with fitness 2471\n",
      "Finished generation 51 with fitness 2426\n",
      "Finished generation 52 with fitness 2397\n",
      "Finished generation 53 with fitness 2390\n",
      "Finished generation 54 with fitness 2386\n",
      "Finished generation 55 with fitness 2355\n",
      "Finished generation 56 with fitness 2350\n",
      "Finished generation 57 with fitness 2345\n",
      "Finished generation 58 with fitness 2312\n",
      "Finished generation 59 with fitness 2309\n",
      "Finished generation 60 with fitness 2306\n",
      "Finished generation 61 with fitness 2293\n",
      "Finished generation 62 with fitness 2296\n",
      "Finished generation 63 with fitness 2296\n",
      "Finished generation 64 with fitness 2293\n",
      "Finished generation 65 with fitness 2284\n",
      "Finished generation 66 with fitness 2284\n",
      "Finished generation 67 with fitness 2276\n",
      "Finished generation 68 with fitness 2276\n",
      "Finished generation 69 with fitness 2272\n",
      "Finished generation 70 with fitness 2249\n",
      "Finished generation 71 with fitness 2244\n",
      "Finished generation 72 with fitness 2239\n",
      "Finished generation 73 with fitness 2234\n",
      "Finished generation 74 with fitness 2198\n",
      "Finished generation 75 with fitness 2198\n",
      "Finished generation 76 with fitness 2195\n",
      "Finished generation 77 with fitness 2195\n",
      "Finished generation 78 with fitness 2187\n",
      "Finished generation 79 with fitness 2161\n",
      "Finished generation 80 with fitness 2147\n",
      "Finished generation 81 with fitness 2106\n",
      "Finished generation 82 with fitness 2106\n",
      "Finished generation 83 with fitness 2100\n",
      "Finished generation 84 with fitness 2099\n",
      "Finished generation 85 with fitness 2072\n",
      "Finished generation 86 with fitness 2072\n",
      "Finished generation 87 with fitness 2072\n",
      "Finished generation 88 with fitness 2072\n",
      "Finished generation 89 with fitness 2063\n",
      "Finished generation 90 with fitness 2063\n",
      "Finished generation 91 with fitness 2063\n",
      "Finished generation 92 with fitness 2056\n",
      "Finished generation 93 with fitness 2019\n",
      "Finished generation 94 with fitness 2019\n",
      "Finished generation 95 with fitness 1947\n",
      "Finished generation 96 with fitness 1951\n",
      "Finished generation 97 with fitness 1906\n",
      "Finished generation 98 with fitness 1906\n",
      "Finished generation 99 with fitness 1906\n",
      "Finished generation 100 with fitness 1906\n",
      "Finished generation 101 with fitness 1906\n",
      "Finished generation 102 with fitness 1906\n",
      "Finished generation 103 with fitness 1906\n",
      "Finished generation 104 with fitness 1906\n",
      "Found \"optimal\" solution after 104 generations\n",
      "Best fitness: [1906]\n"
     ]
    }
   ],
   "execution_count": 87
  },
  {
   "metadata": {},
   "cell_type": "markdown",
   "source": "### Plot GA performance",
   "id": "7638884cac215b0c"
  },
  {
   "metadata": {
    "ExecuteTime": {
     "end_time": "2025-03-29T23:33:34.722642Z",
     "start_time": "2025-03-29T23:33:34.577790Z"
    }
   },
   "cell_type": "code",
   "source": [
    "min_val = min(min(best_fitness), min(avg_fitness))\n",
    "max_val = max(max(best_fitness), max(avg_fitness))\n",
    "\n",
    "best_fitness_norm = [(x - min_val) / (max_val - min_val) for x in best_fitness]\n",
    "avg_fitness_norm = [(x - min_val) / (max_val - min_val) for x in avg_fitness]\n",
    "\n",
    "gen_num = list(range(len(best_fitness)))\n",
    "\n",
    "plt.figure(figsize=(10, 6))\n",
    "plt.plot(gen_num, best_fitness_norm, label='Best Fitness (Normalized)', marker='o', ms=3)\n",
    "plt.plot(gen_num, avg_fitness_norm, label='Mean Fitness (Normalized)', marker='s', ms=3)\n",
    "\n",
    "plt.xlabel('Generation')\n",
    "plt.ylabel('Normalized Fitness')\n",
    "plt.title('Normalized Best vs Mean Fitness per Generation')\n",
    "plt.legend()\n",
    "plt.grid(True)\n",
    "plt.show()"
   ],
   "id": "976c14bf75897d17",
   "outputs": [
    {
     "data": {
      "text/plain": [
       "<Figure size 1000x600 with 1 Axes>"
      ],
      "image/png": "[encoded data removed]"
     },
     "metadata": {},
     "output_type": "display_data"
    }
   ],
   "execution_count": 88
  },
  {
   "metadata": {
    "ExecuteTime": {
     "end_time": "2025-03-29T23:27:38.947246Z",
     "start_time": "2025-03-29T23:22:40.322543Z"
    }
   },
   "cell_type": "code",
   "source": "",
   "id": "6b57c77906dce6f8",
   "outputs": [],
   "execution_count": null
  }
 ],
 "metadata": {
  "kernelspec": {
   "display_name": "Python 3",
   "language": "python",
   "name": "python3"
  },
  "language_info": {
   "codemirror_mode": {
    "name": "ipython",
    "version": 2
   },
   "file_extension": ".py",
   "mimetype": "text/x-python",
   "name": "python",
   "nbconvert_exporter": "python",
   "pygments_lexer": "ipython2",
   "version": "2.7.6"
  }
 },
 "nbformat": 4,
 "nbformat_minor": 5
}
